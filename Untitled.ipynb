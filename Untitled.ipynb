{
 "cells": [
  {
   "cell_type": "code",
   "execution_count": 2,
   "id": "616354fa-f9cd-4e65-83b6-d26b91fc3a36",
   "metadata": {},
   "outputs": [],
   "source": [
    "import sqlite3\n",
    "%config SqlMagic.style = '_DEPRECATED_DEFAULT'\n",
    "connection = sqlite3.connect('store.db')\n",
    "%load_ext sql\n",
    "%sql sqlite:///store.db"
   ]
  },
  {
   "cell_type": "code",
   "execution_count": 2,
   "id": "92e187a4-8a57-4bed-b2cd-127f685ce80b",
   "metadata": {},
   "outputs": [
    {
     "name": "stdout",
     "output_type": "stream",
     "text": [
      " * sqlite:///store.db\n",
      "Done.\n"
     ]
    },
    {
     "data": {
      "text/html": [
       "<table>\n",
       "    <thead>\n",
       "        <tr>\n",
       "            <th>id</th>\n",
       "            <th>previewPhoto</th>\n",
       "            <th>nameRu</th>\n",
       "            <th>nameEn</th>\n",
       "            <th>nameKz</th>\n",
       "            <th>descriptionRu</th>\n",
       "            <th>descriptionEn</th>\n",
       "            <th>descriptionKz</th>\n",
       "            <th>manager</th>\n",
       "            <th>developer</th>\n",
       "            <th>placeRu</th>\n",
       "            <th>placeEn</th>\n",
       "            <th>placeKz</th>\n",
       "            <th>discipline</th>\n",
       "            <th>startTime</th>\n",
       "            <th>endTime</th>\n",
       "            <th>prize</th>\n",
       "        </tr>\n",
       "    </thead>\n",
       "    <tbody>\n",
       "        <tr>\n",
       "            <td>1</td>\n",
       "            <td>18de7d9e-77f2-41a3-bfa4-094fa7e9cce0.png</td>\n",
       "            <td>имя</td>\n",
       "            <td>ывав</td>\n",
       "            <td>ыва</td>\n",
       "            <td>ываы</td>\n",
       "            <td>ываыв</td>\n",
       "            <td>ыпыап</td>\n",
       "            <td>авпа</td>\n",
       "            <td>вапва</td>\n",
       "            <td>вап</td>\n",
       "            <td>вап</td>\n",
       "            <td>вапва</td>\n",
       "            <td>вап</td>\n",
       "            <td>0</td>\n",
       "            <td>0</td>\n",
       "            <td>1</td>\n",
       "        </tr>\n",
       "        <tr>\n",
       "            <td>2</td>\n",
       "            <td>a2583a77-a5f5-45bc-9bdf-71a913d4ea77.png</td>\n",
       "            <td>Новый эвент</td>\n",
       "            <td>ne</td>\n",
       "            <td>nk</td>\n",
       "            <td>dr</td>\n",
       "            <td>de</td>\n",
       "            <td>dk</td>\n",
       "            <td>m</td>\n",
       "            <td>dev</td>\n",
       "            <td>pr</td>\n",
       "            <td>pe</td>\n",
       "            <td>pk</td>\n",
       "            <td>disc</td>\n",
       "            <td>3124324324</td>\n",
       "            <td>234234234</td>\n",
       "            <td>234234234</td>\n",
       "        </tr>\n",
       "        <tr>\n",
       "            <td>3</td>\n",
       "            <td>be064f8a-e859-4ab6-bbd3-0fed6eea855b.png</td>\n",
       "            <td>Новый эвент</td>\n",
       "            <td>ne</td>\n",
       "            <td>nk</td>\n",
       "            <td>dr</td>\n",
       "            <td>de</td>\n",
       "            <td>dk</td>\n",
       "            <td>m</td>\n",
       "            <td>dev</td>\n",
       "            <td>pr</td>\n",
       "            <td>pe</td>\n",
       "            <td>pk</td>\n",
       "            <td>disc</td>\n",
       "            <td>3124324324</td>\n",
       "            <td>234234234</td>\n",
       "            <td>234234234</td>\n",
       "        </tr>\n",
       "        <tr>\n",
       "            <td>4</td>\n",
       "            <td>a2bfbb1f-327a-415f-a35f-9b23edbb2902.png</td>\n",
       "            <td>имя</td>\n",
       "            <td>ывав</td>\n",
       "            <td>ыва</td>\n",
       "            <td>ываы</td>\n",
       "            <td>ываыв</td>\n",
       "            <td>ыпыап</td>\n",
       "            <td>авпа</td>\n",
       "            <td>вапва</td>\n",
       "            <td>вап</td>\n",
       "            <td>вап</td>\n",
       "            <td>вапва</td>\n",
       "            <td>вап</td>\n",
       "            <td>0</td>\n",
       "            <td>0</td>\n",
       "            <td>1</td>\n",
       "        </tr>\n",
       "        <tr>\n",
       "            <td>5</td>\n",
       "            <td>c22535de-479e-440b-a6e6-ea1ba2152929.png</td>\n",
       "            <td>nr</td>\n",
       "            <td>ne</td>\n",
       "            <td>nk</td>\n",
       "            <td>dr</td>\n",
       "            <td>de</td>\n",
       "            <td>dk</td>\n",
       "            <td>org</td>\n",
       "            <td>dev</td>\n",
       "            <td>pr</td>\n",
       "            <td>pe</td>\n",
       "            <td>pk</td>\n",
       "            <td>disc</td>\n",
       "            <td>0</td>\n",
       "            <td>0</td>\n",
       "            <td>1</td>\n",
       "        </tr>\n",
       "        <tr>\n",
       "            <td>6</td>\n",
       "            <td>c7fbf679-1a57-4313-9bf5-abe82adddcfe.png</td>\n",
       "            <td>Новый эвент</td>\n",
       "            <td>ne</td>\n",
       "            <td>nk</td>\n",
       "            <td>dr</td>\n",
       "            <td>de</td>\n",
       "            <td>dk</td>\n",
       "            <td>m</td>\n",
       "            <td>dev</td>\n",
       "            <td>pr</td>\n",
       "            <td>pe</td>\n",
       "            <td>pk</td>\n",
       "            <td>disc</td>\n",
       "            <td>3124324324</td>\n",
       "            <td>234234234</td>\n",
       "            <td>234234234</td>\n",
       "        </tr>\n",
       "        <tr>\n",
       "            <td>7</td>\n",
       "            <td>e1c18d25-59d7-4a4d-a144-d4590541ad2f.png</td>\n",
       "            <td>nr</td>\n",
       "            <td>ne</td>\n",
       "            <td>nk</td>\n",
       "            <td>dr</td>\n",
       "            <td>de</td>\n",
       "            <td>dk</td>\n",
       "            <td>org</td>\n",
       "            <td>dev</td>\n",
       "            <td>pr</td>\n",
       "            <td>pe</td>\n",
       "            <td>pk</td>\n",
       "            <td>disc</td>\n",
       "            <td>0</td>\n",
       "            <td>0</td>\n",
       "            <td>1</td>\n",
       "        </tr>\n",
       "        <tr>\n",
       "            <td>8</td>\n",
       "            <td>e24e44ad-810a-4de3-a844-4e746c91fd3c.png</td>\n",
       "            <td>nr</td>\n",
       "            <td>ne</td>\n",
       "            <td>nk</td>\n",
       "            <td>dr</td>\n",
       "            <td>de</td>\n",
       "            <td>dk</td>\n",
       "            <td>org</td>\n",
       "            <td>dev</td>\n",
       "            <td>pr</td>\n",
       "            <td>pe</td>\n",
       "            <td>pk</td>\n",
       "            <td>disc</td>\n",
       "            <td>0</td>\n",
       "            <td>0</td>\n",
       "            <td>1</td>\n",
       "        </tr>\n",
       "        <tr>\n",
       "            <td>9</td>\n",
       "            <td>d2301784-51db-48bc-918f-2a95d4cfbf78.png</td>\n",
       "            <td>с фронта</td>\n",
       "            <td>ne</td>\n",
       "            <td>nk</td>\n",
       "            <td>dr</td>\n",
       "            <td>de</td>\n",
       "            <td>dk</td>\n",
       "            <td>org</td>\n",
       "            <td>dev</td>\n",
       "            <td>pr</td>\n",
       "            <td>pe</td>\n",
       "            <td>pk</td>\n",
       "            <td>disc</td>\n",
       "            <td>0</td>\n",
       "            <td>0</td>\n",
       "            <td>1</td>\n",
       "        </tr>\n",
       "    </tbody>\n",
       "</table>"
      ],
      "text/plain": [
       "[(1, '18de7d9e-77f2-41a3-bfa4-094fa7e9cce0.png', 'имя', 'ывав', 'ыва', 'ываы', 'ываыв', 'ыпыап', 'авпа', 'вапва', 'вап', 'вап', 'вапва', 'вап', 0, 0, 1),\n",
       " (2, 'a2583a77-a5f5-45bc-9bdf-71a913d4ea77.png', 'Новый эвент', 'ne', 'nk', 'dr', 'de', 'dk', 'm', 'dev', 'pr', 'pe', 'pk', 'disc', 3124324324, 234234234, 234234234),\n",
       " (3, 'be064f8a-e859-4ab6-bbd3-0fed6eea855b.png', 'Новый эвент', 'ne', 'nk', 'dr', 'de', 'dk', 'm', 'dev', 'pr', 'pe', 'pk', 'disc', 3124324324, 234234234, 234234234),\n",
       " (4, 'a2bfbb1f-327a-415f-a35f-9b23edbb2902.png', 'имя', 'ывав', 'ыва', 'ываы', 'ываыв', 'ыпыап', 'авпа', 'вапва', 'вап', 'вап', 'вапва', 'вап', 0, 0, 1),\n",
       " (5, 'c22535de-479e-440b-a6e6-ea1ba2152929.png', 'nr', 'ne', 'nk', 'dr', 'de', 'dk', 'org', 'dev', 'pr', 'pe', 'pk', 'disc', 0, 0, 1),\n",
       " (6, 'c7fbf679-1a57-4313-9bf5-abe82adddcfe.png', 'Новый эвент', 'ne', 'nk', 'dr', 'de', 'dk', 'm', 'dev', 'pr', 'pe', 'pk', 'disc', 3124324324, 234234234, 234234234),\n",
       " (7, 'e1c18d25-59d7-4a4d-a144-d4590541ad2f.png', 'nr', 'ne', 'nk', 'dr', 'de', 'dk', 'org', 'dev', 'pr', 'pe', 'pk', 'disc', 0, 0, 1),\n",
       " (8, 'e24e44ad-810a-4de3-a844-4e746c91fd3c.png', 'nr', 'ne', 'nk', 'dr', 'de', 'dk', 'org', 'dev', 'pr', 'pe', 'pk', 'disc', 0, 0, 1),\n",
       " (9, 'd2301784-51db-48bc-918f-2a95d4cfbf78.png', 'с фронта', 'ne', 'nk', 'dr', 'de', 'dk', 'org', 'dev', 'pr', 'pe', 'pk', 'disc', 0, 0, 1)]"
      ]
     },
     "execution_count": 2,
     "metadata": {},
     "output_type": "execute_result"
    }
   ],
   "source": [
    "%%sql\n",
    "SELECT * FROM Events"
   ]
  },
  {
   "cell_type": "code",
   "execution_count": 3,
   "id": "7466b2ce-c981-4650-9f9b-60b59bcfae5c",
   "metadata": {},
   "outputs": [
    {
     "name": "stdout",
     "output_type": "stream",
     "text": [
      " * sqlite:///store.db\n",
      "1 rows affected.\n"
     ]
    },
    {
     "data": {
      "text/plain": [
       "[]"
      ]
     },
     "execution_count": 3,
     "metadata": {},
     "output_type": "execute_result"
    }
   ],
   "source": [
    "%%sql\n",
    "UPDATE Events\n",
    "SET previewPhoto = \"previewPhoto\", \n",
    "    nameRu = \"nameRu\", \n",
    "    nameEn = \"nameEn\", \n",
    "    nameKz = \"nameKz\", \n",
    "    descriptionRu = \"descriptionRu\", \n",
    "    descriptionEn = \"descriptionEn\", \n",
    "    descriptionKz = \"descriptionKz\", \n",
    "    manager = \"manager\", \n",
    "    placeRu = \"placeRu\", \n",
    "    placeEn = \"placeEn\", \n",
    "    placeKz = \"placeKz\", \n",
    "    discipline = \"discipline\", \n",
    "    startTime = 1, \n",
    "    endTime = 2, \n",
    "    prize = 3 \n",
    "WHERE id = 5;"
   ]
  },
  {
   "cell_type": "code",
   "execution_count": null,
   "id": "236ad061",
   "metadata": {},
   "outputs": [],
   "source": []
  },
  {
   "cell_type": "code",
   "execution_count": 8,
   "id": "6569f6bc",
   "metadata": {},
   "outputs": [
    {
     "name": "stdout",
     "output_type": "stream",
     "text": [
      " * sqlite:///store.db\n",
      "Done.\n"
     ]
    },
    {
     "data": {
      "text/html": [
       "<table>\n",
       "    <thead>\n",
       "        <tr>\n",
       "            <th>id</th>\n",
       "            <th>previewPhoto</th>\n",
       "            <th>nameRu</th>\n",
       "            <th>nameEn</th>\n",
       "            <th>nameKz</th>\n",
       "            <th>descriptionRu</th>\n",
       "            <th>descriptionEn</th>\n",
       "            <th>descriptionKz</th>\n",
       "            <th>manager</th>\n",
       "            <th>developer</th>\n",
       "            <th>placeRu</th>\n",
       "            <th>placeEn</th>\n",
       "            <th>placeKz</th>\n",
       "            <th>discipline</th>\n",
       "            <th>startTime</th>\n",
       "            <th>endTime</th>\n",
       "            <th>prize</th>\n",
       "        </tr>\n",
       "    </thead>\n",
       "    <tbody>\n",
       "    </tbody>\n",
       "</table>"
      ],
      "text/plain": [
       "[]"
      ]
     },
     "execution_count": 8,
     "metadata": {},
     "output_type": "execute_result"
    }
   ],
   "source": [
    "%%sql\n",
    "SELECT * FROM Events\n",
    "WHERE \n",
    "        discipline IN (\"вап\",\"disc\") \n",
    "    AND manager IN (\"org\") \n",
    "    AND developer IN (\"dev\")\n",
    "    AND prize BETWEEN 0 AND 100\n",
    "    AND startTime >= 0 \n",
    "    AND endTime <= 10\n",
    "    AND (nameRu LIKE \"%f%\" OR nameEn LIKE \"%f%\" OR nameKz LIKE \"%f%\")\n",
    "    "
   ]
  },
  {
   "cell_type": "code",
   "execution_count": 11,
   "id": "e8c4aa71",
   "metadata": {},
   "outputs": [
    {
     "name": "stdout",
     "output_type": "stream",
     "text": [
      " * sqlite:///store.db\n",
      "Done.\n"
     ]
    },
    {
     "data": {
      "text/html": [
       "<table>\n",
       "    <thead>\n",
       "        <tr>\n",
       "            <th>manager</th>\n",
       "        </tr>\n",
       "    </thead>\n",
       "    <tbody>\n",
       "        <tr>\n",
       "            <td>авпа</td>\n",
       "        </tr>\n",
       "        <tr>\n",
       "            <td>m</td>\n",
       "        </tr>\n",
       "        <tr>\n",
       "            <td>org</td>\n",
       "        </tr>\n",
       "    </tbody>\n",
       "</table>"
      ],
      "text/plain": [
       "[('авпа',), ('m',), ('org',)]"
      ]
     },
     "execution_count": 11,
     "metadata": {},
     "output_type": "execute_result"
    }
   ],
   "source": [
    "%%sql\n",
    "SELECT DISTINCT manager FROM Events"
   ]
  },
  {
   "cell_type": "code",
   "execution_count": 12,
   "id": "85a17d04",
   "metadata": {},
   "outputs": [
    {
     "name": "stdout",
     "output_type": "stream",
     "text": [
      " * sqlite:///store.db\n",
      "Done.\n"
     ]
    },
    {
     "data": {
      "text/html": [
       "<table>\n",
       "    <thead>\n",
       "        <tr>\n",
       "            <th>developer</th>\n",
       "        </tr>\n",
       "    </thead>\n",
       "    <tbody>\n",
       "        <tr>\n",
       "            <td>вапва</td>\n",
       "        </tr>\n",
       "        <tr>\n",
       "            <td>dev</td>\n",
       "        </tr>\n",
       "    </tbody>\n",
       "</table>"
      ],
      "text/plain": [
       "[('вапва',), ('dev',)]"
      ]
     },
     "execution_count": 12,
     "metadata": {},
     "output_type": "execute_result"
    }
   ],
   "source": [
    "%%sql\n",
    "SELECT DISTINCT developer FROM Events"
   ]
  },
  {
   "cell_type": "code",
   "execution_count": 13,
   "id": "6d13a2f1",
   "metadata": {},
   "outputs": [
    {
     "name": "stdout",
     "output_type": "stream",
     "text": [
      " * sqlite:///store.db\n",
      "Done.\n"
     ]
    },
    {
     "data": {
      "text/html": [
       "<table>\n",
       "    <thead>\n",
       "        <tr>\n",
       "            <th>discipline</th>\n",
       "        </tr>\n",
       "    </thead>\n",
       "    <tbody>\n",
       "        <tr>\n",
       "            <td>вап</td>\n",
       "        </tr>\n",
       "        <tr>\n",
       "            <td>disc</td>\n",
       "        </tr>\n",
       "    </tbody>\n",
       "</table>"
      ],
      "text/plain": [
       "[('вап',), ('disc',)]"
      ]
     },
     "execution_count": 13,
     "metadata": {},
     "output_type": "execute_result"
    }
   ],
   "source": [
    "%%sql\n",
    "SELECT DISTINCT discipline FROM Events"
   ]
  },
  {
   "cell_type": "code",
   "execution_count": 19,
   "id": "8961ca01",
   "metadata": {},
   "outputs": [
    {
     "name": "stdout",
     "output_type": "stream",
     "text": [
      " * sqlite:///store.db\n",
      "1 rows affected.\n"
     ]
    },
    {
     "data": {
      "text/plain": [
       "[]"
      ]
     },
     "execution_count": 19,
     "metadata": {},
     "output_type": "execute_result"
    }
   ],
   "source": [
    "%%sql\n",
    "INSERT INTO Events (\n",
    "    previewPhoto, nameRu, nameEn, nameKz, descriptionRu, descriptionEn, descriptionKz, manager, developer, placeRu, placeEn, placeKz, discipline, startTime, endTime, prize) VALUES\n",
    "(\n",
    "    \"defaultimg.png\",\n",
    "    \"Название 3\", \n",
    "    \"Name\", \n",
    "    \"NameKz\", \n",
    "    \"Киберспортивное мероприятие представляет собой захватывающее соревнование, собирающее лучших киберспортсменов на одной площадке. Участники сражаются в захватывающих игровых дисциплинах, проявляя невероятные навыки и смекалку. Мероприятие окутано атмосферой напряжения и волнения, погружая зрителей в мир электронного спорта. Победители получают не только почет и признание, но и щедрые призы и награды, становясь героями среди любителей киберспорта. Соревнующиеся демонстрируют стратегическое мышление, реакцию, слаженность команды и индивидуальное мастерство в зрелищных поединках. Каждый матч - это уникальное шоу, наполненное энергией и адреналином, приводящее к ошеломляющим результатам и превосходным игровым моментам. Киберспортивное мероприятие - это синтез профессионализма, азарта и страсти, привлекающий тысячи поклонников по всему миру.\", \n",
    "    \"A cyber sports event is an exciting competition that gathers the best esports athletes on one platform. Participants compete in thrilling gaming disciplines, showcasing incredible skills and cunning. The event is surrounded by an atmosphere of tension and excitement, immersing spectators in the world of electronic sports. Winners receive not only honor and recognition but also generous prizes and rewards, becoming heroes among esports enthusiasts. Competitors demonstrate strategic thinking, reflexes, team coordination, and individual mastery in spectacular matches. Each match is a unique show filled with energy and adrenaline, leading to stunning results and outstanding gameplay moments. A cyber sports event is a synthesis of professionalism, thrill, and passion, attracting thousands of fans worldwide.\", \n",
    "    \"Кибер-спорттық іс-шараға қол жеткізу үшін ең жақын мекенжайда ең еңбекар электронды спортшылдарды жинаушы бір көшедай кездеседі. Қатысушылар үміткерлік ойын дисциплиналарында ойыншылық қабілеттерін көрсетуді мақсатында кездесуде. Іс-шара жағдайысы жаманыат тауыпсыздың және толғануы сезім алу орта жасайды, келесілерді электронды спорттық әлемдің мазмұны арасында түнгендейді. Жеңшілер танымал дейіндер және анықталу, ал ескертулер мен марапатты шығушылар алу, спортшылар бекітілген мәчтеменің оқиғалық ойын мезетінде мекендейді. Әр маҧас - бұл энергия мен адреналинмен толтырылған күйірме, потенциалды нәтижелерге және шабуылды ойын ағзаларына бастаған жағдайды. Кибер-спорттық жеміс - бүйрайтындылық, эрзінділік пен махаббаттың синтезі, жалпы ертегілер салғыштырған, миллиондаған турар жамандарды ауыстыру.\", \n",
    "    \"Manager\", \n",
    "    \"CS:GO\",\n",
    "    \"Москва\", \n",
    "    \"Moscow\", \n",
    "    \"Москва КЗ\", \n",
    "    \"Dota\", \n",
    "    1749004863, \n",
    "    1749264063, \n",
    "    10000\n",
    ")\n"
   ]
  },
  {
   "cell_type": "code",
   "execution_count": 24,
   "id": "84576181",
   "metadata": {},
   "outputs": [
    {
     "name": "stdout",
     "output_type": "stream",
     "text": [
      " * sqlite:///store.db\n",
      "Done.\n"
     ]
    },
    {
     "data": {
      "text/html": [
       "<table>\n",
       "    <thead>\n",
       "        <tr>\n",
       "            <th>manager</th>\n",
       "            <th>developer</th>\n",
       "        </tr>\n",
       "    </thead>\n",
       "    <tbody>\n",
       "        <tr>\n",
       "            <td>Organizator</td>\n",
       "            <td>Valve</td>\n",
       "        </tr>\n",
       "        <tr>\n",
       "            <td>Organizator</td>\n",
       "            <td>Valve</td>\n",
       "        </tr>\n",
       "        <tr>\n",
       "            <td>Organizator</td>\n",
       "            <td>Valve</td>\n",
       "        </tr>\n",
       "        <tr>\n",
       "            <td>Organizator</td>\n",
       "            <td>Valve</td>\n",
       "        </tr>\n",
       "        <tr>\n",
       "            <td>Organizator</td>\n",
       "            <td>Valve</td>\n",
       "        </tr>\n",
       "        <tr>\n",
       "            <td>Organizator</td>\n",
       "            <td>Valve</td>\n",
       "        </tr>\n",
       "        <tr>\n",
       "            <td>Organizator</td>\n",
       "            <td>Valve</td>\n",
       "        </tr>\n",
       "        <tr>\n",
       "            <td>Organizator</td>\n",
       "            <td>Valve</td>\n",
       "        </tr>\n",
       "        <tr>\n",
       "            <td>Manager</td>\n",
       "            <td>CS:GO</td>\n",
       "        </tr>\n",
       "        <tr>\n",
       "            <td>Manager</td>\n",
       "            <td>CS:GO</td>\n",
       "        </tr>\n",
       "        <tr>\n",
       "            <td>Manager</td>\n",
       "            <td>CS:GO</td>\n",
       "        </tr>\n",
       "    </tbody>\n",
       "</table>"
      ],
      "text/plain": [
       "[('Organizator', 'Valve'),\n",
       " ('Organizator', 'Valve'),\n",
       " ('Organizator', 'Valve'),\n",
       " ('Organizator', 'Valve'),\n",
       " ('Organizator', 'Valve'),\n",
       " ('Organizator', 'Valve'),\n",
       " ('Organizator', 'Valve'),\n",
       " ('Organizator', 'Valve'),\n",
       " ('Manager', 'CS:GO'),\n",
       " ('Manager', 'CS:GO'),\n",
       " ('Manager', 'CS:GO')]"
      ]
     },
     "execution_count": 24,
     "metadata": {},
     "output_type": "execute_result"
    }
   ],
   "source": [
    "%%sql\n",
    "SELECT manager, developer FROM Events"
   ]
  },
  {
   "cell_type": "code",
   "execution_count": 4,
   "id": "21b630b5",
   "metadata": {},
   "outputs": [
    {
     "name": "stdout",
     "output_type": "stream",
     "text": [
      " * sqlite:///store.db\n",
      "Done.\n"
     ]
    },
    {
     "data": {
      "text/html": [
       "<table>\n",
       "    <thead>\n",
       "        <tr>\n",
       "            <th>id</th>\n",
       "            <th>previewPhoto</th>\n",
       "            <th>firstName</th>\n",
       "            <th>lastName</th>\n",
       "            <th>company</th>\n",
       "            <th>mail</th>\n",
       "            <th>phone</th>\n",
       "            <th>isAdmin</th>\n",
       "            <th>login</th>\n",
       "            <th>password</th>\n",
       "        </tr>\n",
       "    </thead>\n",
       "    <tbody>\n",
       "        <tr>\n",
       "            <td>9</td>\n",
       "            <td>daf6d6a3-56a0-4b8c-9b97-95e36760c9f7.png</td>\n",
       "            <td>админ</td>\n",
       "            <td>админыч</td>\n",
       "            <td>company</td>\n",
       "            <td>poschta</td>\n",
       "            <td>78880009876</td>\n",
       "            <td>1</td>\n",
       "            <td>админ</td>\n",
       "            <td>админ</td>\n",
       "        </tr>\n",
       "    </tbody>\n",
       "</table>"
      ],
      "text/plain": [
       "[(9, 'daf6d6a3-56a0-4b8c-9b97-95e36760c9f7.png', 'админ', 'админыч', 'company', 'poschta', '78880009876', 1, 'админ', 'админ')]"
      ]
     },
     "execution_count": 4,
     "metadata": {},
     "output_type": "execute_result"
    }
   ],
   "source": [
    "%%sql\n",
    "SELECT * FROM Users WHERE login = 'админ' AND password = 'админ'"
   ]
  },
  {
   "cell_type": "code",
   "execution_count": 17,
   "id": "5bc7096b",
   "metadata": {},
   "outputs": [
    {
     "name": "stdout",
     "output_type": "stream",
     "text": [
      " * sqlite:///store.db\n",
      "Done.\n"
     ]
    },
    {
     "data": {
      "text/html": [
       "<table>\n",
       "    <thead>\n",
       "        <tr>\n",
       "            <th>id</th>\n",
       "            <th>eventId</th>\n",
       "            <th>userId</th>\n",
       "            <th>date</th>\n",
       "        </tr>\n",
       "    </thead>\n",
       "    <tbody>\n",
       "        <tr>\n",
       "            <td>3</td>\n",
       "            <td>0</td>\n",
       "            <td>0</td>\n",
       "            <td>0</td>\n",
       "        </tr>\n",
       "    </tbody>\n",
       "</table>"
      ],
      "text/plain": [
       "[(3, 0, 0, 0)]"
      ]
     },
     "execution_count": 17,
     "metadata": {},
     "output_type": "execute_result"
    }
   ],
   "source": [
    "%%sql\n",
    "SELECT * FROM Sales"
   ]
  },
  {
   "cell_type": "code",
   "execution_count": 21,
   "id": "9987e44f",
   "metadata": {},
   "outputs": [
    {
     "name": "stdout",
     "output_type": "stream",
     "text": [
      " * sqlite:///store.db\n",
      "1 rows affected.\n"
     ]
    },
    {
     "data": {
      "text/plain": [
       "[]"
      ]
     },
     "execution_count": 21,
     "metadata": {},
     "output_type": "execute_result"
    }
   ],
   "source": [
    "%%sql\n",
    "INSERT INTO Sales (eventId, userId, date) VALUES\n",
    "(1,11,123456)"
   ]
  },
  {
   "cell_type": "code",
   "execution_count": 14,
   "id": "15730431",
   "metadata": {},
   "outputs": [
    {
     "name": "stdout",
     "output_type": "stream",
     "text": [
      " * sqlite:///store.db\n",
      "Done.\n"
     ]
    },
    {
     "data": {
      "text/html": [
       "<table>\n",
       "    <thead>\n",
       "        <tr>\n",
       "            <th>id</th>\n",
       "            <th>previewPhoto</th>\n",
       "            <th>nameRu</th>\n",
       "            <th>nameEn</th>\n",
       "            <th>nameKz</th>\n",
       "            <th>descriptionRu</th>\n",
       "            <th>descriptionEn</th>\n",
       "            <th>descriptionKz</th>\n",
       "            <th>manager</th>\n",
       "            <th>developer</th>\n",
       "            <th>placeRu</th>\n",
       "            <th>placeEn</th>\n",
       "            <th>placeKz</th>\n",
       "            <th>discipline</th>\n",
       "            <th>startTime</th>\n",
       "            <th>endTime</th>\n",
       "            <th>prize</th>\n",
       "        </tr>\n",
       "    </thead>\n",
       "    <tbody>\n",
       "        <tr>\n",
       "            <td>1</td>\n",
       "            <td>1fc1d278-5c87-4b61-8384-9d3947089488.png</td>\n",
       "            <td>Название RU</td>\n",
       "            <td>Название EN</td>\n",
       "            <td>Название KZ</td>\n",
       "            <td>Название RU</td>\n",
       "            <td>Название RU</td>\n",
       "            <td>Название RU</td>\n",
       "            <td>Организатор</td>\n",
       "            <td>Разраб</td>\n",
       "            <td>москва</td>\n",
       "            <td>мосвка</td>\n",
       "            <td>москва</td>\n",
       "            <td>ксго</td>\n",
       "            <td>1751328000000</td>\n",
       "            <td>1751414400000</td>\n",
       "            <td>1000006</td>\n",
       "        </tr>\n",
       "    </tbody>\n",
       "</table>"
      ],
      "text/plain": [
       "[(1, '1fc1d278-5c87-4b61-8384-9d3947089488.png', 'Название RU', 'Название EN', 'Название KZ', 'Название RU', 'Название RU', 'Название RU', 'Организатор', 'Разраб', 'москва', 'мосвка', 'москва', 'ксго', 1751328000000, 1751414400000, 1000006)]"
      ]
     },
     "execution_count": 14,
     "metadata": {},
     "output_type": "execute_result"
    }
   ],
   "source": [
    "%%sql\n",
    "SELECT Events.id, previewPhoto, nameRu, nameEn, nameKz, descriptionRu, descriptionEn, descriptionKz, manager, developer, placeRu, placeEn, placeKz, discipline, startTime, endTime, prize FROM Sales\n",
    "JOIN Events ON Events.id = eventId\n",
    "WHERE userId = 1"
   ]
  },
  {
   "cell_type": "code",
   "execution_count": 11,
   "id": "7d509886",
   "metadata": {},
   "outputs": [
    {
     "name": "stdout",
     "output_type": "stream",
     "text": [
      " * sqlite:///store.db\n",
      "1 rows affected.\n"
     ]
    },
    {
     "data": {
      "text/plain": [
       "[]"
      ]
     },
     "execution_count": 11,
     "metadata": {},
     "output_type": "execute_result"
    }
   ],
   "source": [
    "%%sql\n",
    "DELETE FROM Sales \n",
    "WHERE userId = 1 AND eventId = 1"
   ]
  },
  {
   "cell_type": "code",
   "execution_count": 19,
   "id": "ed0ec1de",
   "metadata": {},
   "outputs": [
    {
     "name": "stdout",
     "output_type": "stream",
     "text": [
      " * sqlite:///store.db\n",
      "Done.\n"
     ]
    },
    {
     "data": {
      "text/html": [
       "<table>\n",
       "    <thead>\n",
       "        <tr>\n",
       "            <th>id</th>\n",
       "            <th>previewPhoto</th>\n",
       "            <th>firstName</th>\n",
       "            <th>lastName</th>\n",
       "            <th>company</th>\n",
       "            <th>mail</th>\n",
       "            <th>phone</th>\n",
       "            <th>isAdmin</th>\n",
       "            <th>login</th>\n",
       "            <th>password</th>\n",
       "        </tr>\n",
       "    </thead>\n",
       "    <tbody>\n",
       "        <tr>\n",
       "            <td>11</td>\n",
       "            <td>71a78480-c1a7-4c8f-b2f2-a10baddd60ef.png</td>\n",
       "            <td>имя1342</td>\n",
       "            <td>фамилия234234</td>\n",
       "            <td>Компания</td>\n",
       "            <td>sdfsd</td>\n",
       "            <td>799123124</td>\n",
       "            <td>1</td>\n",
       "            <td>логин</td>\n",
       "            <td>пароль</td>\n",
       "        </tr>\n",
       "    </tbody>\n",
       "</table>"
      ],
      "text/plain": [
       "[(11, '71a78480-c1a7-4c8f-b2f2-a10baddd60ef.png', 'имя1342', 'фамилия234234', 'Компания', 'sdfsd', '799123124', 1, 'логин', 'пароль')]"
      ]
     },
     "execution_count": 19,
     "metadata": {},
     "output_type": "execute_result"
    }
   ],
   "source": [
    "%%sql\n",
    "SELECT * FROM Users"
   ]
  },
  {
   "cell_type": "code",
   "execution_count": 20,
   "id": "df544252",
   "metadata": {},
   "outputs": [
    {
     "name": "stdout",
     "output_type": "stream",
     "text": [
      " * sqlite:///store.db\n",
      "Done.\n"
     ]
    },
    {
     "data": {
      "text/html": [
       "<table>\n",
       "    <thead>\n",
       "        <tr>\n",
       "            <th>id</th>\n",
       "            <th>previewPhoto</th>\n",
       "            <th>nameRu</th>\n",
       "            <th>nameEn</th>\n",
       "            <th>nameKz</th>\n",
       "            <th>descriptionRu</th>\n",
       "            <th>descriptionEn</th>\n",
       "            <th>descriptionKz</th>\n",
       "            <th>manager</th>\n",
       "            <th>developer</th>\n",
       "            <th>placeRu</th>\n",
       "            <th>placeEn</th>\n",
       "            <th>placeKz</th>\n",
       "            <th>discipline</th>\n",
       "            <th>startTime</th>\n",
       "            <th>endTime</th>\n",
       "            <th>prize</th>\n",
       "        </tr>\n",
       "    </thead>\n",
       "    <tbody>\n",
       "        <tr>\n",
       "            <td>1</td>\n",
       "            <td>1fc1d278-5c87-4b61-8384-9d3947089488.png</td>\n",
       "            <td>Название RU</td>\n",
       "            <td>Название EN</td>\n",
       "            <td>Название KZ</td>\n",
       "            <td>Название RU</td>\n",
       "            <td>Название RU</td>\n",
       "            <td>Название RU</td>\n",
       "            <td>Организатор</td>\n",
       "            <td>Разраб</td>\n",
       "            <td>москва</td>\n",
       "            <td>мосвка</td>\n",
       "            <td>москва</td>\n",
       "            <td>ксго</td>\n",
       "            <td>1751328000000</td>\n",
       "            <td>1751414400000</td>\n",
       "            <td>1000006</td>\n",
       "        </tr>\n",
       "    </tbody>\n",
       "</table>"
      ],
      "text/plain": [
       "[(1, '1fc1d278-5c87-4b61-8384-9d3947089488.png', 'Название RU', 'Название EN', 'Название KZ', 'Название RU', 'Название RU', 'Название RU', 'Организатор', 'Разраб', 'москва', 'мосвка', 'москва', 'ксго', 1751328000000, 1751414400000, 1000006)]"
      ]
     },
     "execution_count": 20,
     "metadata": {},
     "output_type": "execute_result"
    }
   ],
   "source": [
    "%%sql\n",
    "SELECT * FROM Events"
   ]
  },
  {
   "cell_type": "code",
   "execution_count": 22,
   "id": "caa36bf9",
   "metadata": {},
   "outputs": [
    {
     "name": "stdout",
     "output_type": "stream",
     "text": [
      " * sqlite:///store.db\n",
      "Done.\n"
     ]
    },
    {
     "data": {
      "text/html": [
       "<table>\n",
       "    <thead>\n",
       "        <tr>\n",
       "            <th>id</th>\n",
       "            <th>eventId</th>\n",
       "            <th>userId</th>\n",
       "            <th>date</th>\n",
       "        </tr>\n",
       "    </thead>\n",
       "    <tbody>\n",
       "        <tr>\n",
       "            <td>3</td>\n",
       "            <td>0</td>\n",
       "            <td>0</td>\n",
       "            <td>0</td>\n",
       "        </tr>\n",
       "        <tr>\n",
       "            <td>6</td>\n",
       "            <td>1</td>\n",
       "            <td>11</td>\n",
       "            <td>123456</td>\n",
       "        </tr>\n",
       "    </tbody>\n",
       "</table>"
      ],
      "text/plain": [
       "[(3, 0, 0, 0), (6, 1, 11, 123456)]"
      ]
     },
     "execution_count": 22,
     "metadata": {},
     "output_type": "execute_result"
    }
   ],
   "source": [
    "%%sql\n",
    "SELECT * FROM Sales"
   ]
  },
  {
   "cell_type": "code",
   "execution_count": null,
   "id": "f5779b50",
   "metadata": {},
   "outputs": [],
   "source": [
    "%%sql\n",
    "INSERT INTO Events (\n",
    "    previewPhoto, nameRu, nameEn, nameKz, descriptionRu, descriptionEn, descriptionKz, manager, developer, placeRu, placeEn, placeKz, discipline, startTime, endTime, prize) VALUES\n",
    "(\n",
    "    \"ccd86755-8594-40b5-b7c5-3832f8506250.jpg\",\n",
    "    \"Blast.tv Austin Major 2025\", \n",
    "    \"Blast.tv Austin Major 2025\", \n",
    "    \"Blast.tv Austin Major 2025\", \n",
    "    \"Киберспортивное мероприятие представляет собой захватывающее соревнование, собирающее лучших киберспортсменов на одной площадке. Участники сражаются в захватывающих игровых дисциплинах, проявляя невероятные навыки и смекалку. Мероприятие окутано атмосферой напряжения и волнения, погружая зрителей в мир электронного спорта. Победители получают не только почет и признание, но и щедрые призы и награды, становясь героями среди любителей киберспорта. Соревнующиеся демонстрируют стратегическое мышление, реакцию, слаженность команды и индивидуальное мастерство в зрелищных поединках. Каждый матч - это уникальное шоу, наполненное энергией и адреналином, приводящее к ошеломляющим результатам и превосходным игровым моментам. Киберспортивное мероприятие - это синтез профессионализма, азарта и страсти, привлекающий тысячи поклонников по всему миру.\", \n",
    "    \"A cyber sports event is an exciting competition that gathers the best esports athletes on one platform. Participants compete in thrilling gaming disciplines, showcasing incredible skills and cunning. The event is surrounded by an atmosphere of tension and excitement, immersing spectators in the world of electronic sports. Winners receive not only honor and recognition but also generous prizes and rewards, becoming heroes among esports enthusiasts. Competitors demonstrate strategic thinking, reflexes, team coordination, and individual mastery in spectacular matches. Each match is a unique show filled with energy and adrenaline, leading to stunning results and outstanding gameplay moments. A cyber sports event is a synthesis of professionalism, thrill, and passion, attracting thousands of fans worldwide.\", \n",
    "    \"Кибер-спорттық іс-шараға қол жеткізу үшін ең жақын мекенжайда ең еңбекар электронды спортшылдарды жинаушы бір көшедай кездеседі. Қатысушылар үміткерлік ойын дисциплиналарында ойыншылық қабілеттерін көрсетуді мақсатында кездесуде. Іс-шара жағдайысы жаманыат тауыпсыздың және толғануы сезім алу орта жасайды, келесілерді электронды спорттық әлемдің мазмұны арасында түнгендейді. Жеңшілер танымал дейіндер және анықталу, ал ескертулер мен марапатты шығушылар алу, спортшылар бекітілген мәчтеменің оқиғалық ойын мезетінде мекендейді. Әр маҧас - бұл энергия мен адреналинмен толтырылған күйірме, потенциалды нәтижелерге және шабуылды ойын ағзаларына бастаған жағдайды. Кибер-спорттық жеміс - бүйрайтындылық, эрзінділік пен махаббаттың синтезі, жалпы ертегілер салғыштырған, миллиондаған турар жамандарды ауыстыру.\", \n",
    "    \"Blast\", \n",
    "    \"Valve\",\n",
    "    \"Austin, USA\", \n",
    "    \"Austin, USA\", \n",
    "    \"Austin, USA\", \n",
    "    \"CS2\", \n",
    "    1748894552, \n",
    "    1750536152, \n",
    "    1250000\n",
    "), \n",
    "(\n",
    "    \"ccd86755-8594-40b5-b7c5-3832f8506250.jpg\",\n",
    "    \"Esports World Cup 2025\", \n",
    "    \"Esports World Cup 2025\", \n",
    "    \"Esports World Cup 2025\", \n",
    "    \"Киберспортивное мероприятие представляет собой захватывающее соревнование, собирающее лучших киберспортсменов на одной площадке. Участники сражаются в захватывающих игровых дисциплинах, проявляя невероятные навыки и смекалку. Мероприятие окутано атмосферой напряжения и волнения, погружая зрителей в мир электронного спорта. Победители получают не только почет и признание, но и щедрые призы и награды, становясь героями среди любителей киберспорта. Соревнующиеся демонстрируют стратегическое мышление, реакцию, слаженность команды и индивидуальное мастерство в зрелищных поединках. Каждый матч - это уникальное шоу, наполненное энергией и адреналином, приводящее к ошеломляющим результатам и превосходным игровым моментам. Киберспортивное мероприятие - это синтез профессионализма, азарта и страсти, привлекающий тысячи поклонников по всему миру.\", \n",
    "    \"A cyber sports event is an exciting competition that gathers the best esports athletes on one platform. Participants compete in thrilling gaming disciplines, showcasing incredible skills and cunning. The event is surrounded by an atmosphere of tension and excitement, immersing spectators in the world of electronic sports. Winners receive not only honor and recognition but also generous prizes and rewards, becoming heroes among esports enthusiasts. Competitors demonstrate strategic thinking, reflexes, team coordination, and individual mastery in spectacular matches. Each match is a unique show filled with energy and adrenaline, leading to stunning results and outstanding gameplay moments. A cyber sports event is a synthesis of professionalism, thrill, and passion, attracting thousands of fans worldwide.\", \n",
    "    \"Кибер-спорттық іс-шараға қол жеткізу үшін ең жақын мекенжайда ең еңбекар электронды спортшылдарды жинаушы бір көшедай кездеседі. Қатысушылар үміткерлік ойын дисциплиналарында ойыншылық қабілеттерін көрсетуді мақсатында кездесуде. Іс-шара жағдайысы жаманыат тауыпсыздың және толғануы сезім алу орта жасайды, келесілерді электронды спорттық әлемдің мазмұны арасында түнгендейді. Жеңшілер танымал дейіндер және анықталу, ал ескертулер мен марапатты шығушылар алу, спортшылар бекітілген мәчтеменің оқиғалық ойын мезетінде мекендейді. Әр маҧас - бұл энергия мен адреналинмен толтырылған күйірме, потенциалды нәтижелерге және шабуылды ойын ағзаларына бастаған жағдайды. Кибер-спорттық жеміс - бүйрайтындылық, эрзінділік пен махаббаттың синтезі, жалпы ертегілер салғыштырған, миллиондаған турар жамандарды ауыстыру.\", \n",
    "    \"Blast\", \n",
    "    \"Valve\",\n",
    "    \"Austin, USA\", \n",
    "    \"Austin, USA\", \n",
    "    \"Austin, USA\", \n",
    "    \"CS2\", \n",
    "    1748894552, \n",
    "    1750536152, \n",
    "    1250000\n",
    "), "
   ]
  }
 ],
 "metadata": {
  "kernelspec": {
   "display_name": "Python 3",
   "language": "python",
   "name": "python3"
  },
  "language_info": {
   "codemirror_mode": {
    "name": "ipython",
    "version": 3
   },
   "file_extension": ".py",
   "mimetype": "text/x-python",
   "name": "python",
   "nbconvert_exporter": "python",
   "pygments_lexer": "ipython3",
   "version": "3.13.2"
  }
 },
 "nbformat": 4,
 "nbformat_minor": 5
}
